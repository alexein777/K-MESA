{
 "cells": [
  {
   "cell_type": "code",
   "execution_count": 2,
   "metadata": {
    "collapsed": true
   },
   "outputs": [],
   "source": [
    "import numpy as np\n",
    "import matplotlib.pyplot as plt\n",
    "from clustering.kmesar import *"
   ]
  },
  {
   "cell_type": "code",
   "execution_count": 3,
   "outputs": [
    {
     "name": "stdout",
     "output_type": "stream",
     "text": [
      "[1.33333333 2.        ]\n"
     ]
    }
   ],
   "source": [
    "points = np.array([[1, 2], [3, 3], [0, 1]])\n",
    "print(np.mean(points, axis=0))"
   ],
   "metadata": {
    "collapsed": false,
    "pycharm": {
     "name": "#%%\n"
    }
   }
  },
  {
   "cell_type": "code",
   "execution_count": 4,
   "outputs": [
    {
     "name": "stdout",
     "output_type": "stream",
     "text": [
      "[0. 0. 1. 1. 0. 0. 1. 2. 2. 2. 2. 2.]\n",
      "1.019803902718557\n",
      "0.8\n"
     ]
    },
    {
     "data": {
      "text/plain": "<Figure size 432x288 with 1 Axes>",
      "image/png": "[encoded data removed]"
     },
     "metadata": {
      "needs_background": "light"
     },
     "output_type": "display_data"
    }
   ],
   "source": [
    "centroids = np.array([\n",
    "    [1, 1.2],\n",
    "    [4, 1.2],\n",
    "    [6, 1.8]\n",
    "])\n",
    "points = np.array([[1, 1], [2, 1], [4, 1], [5, 1], [1, 2], [2, 2], [4, 2], [5, 2],\n",
    "                   [6, 1], [7, 1], [6, 2], [7, 2]])\n",
    "\n",
    "labels = assign_points_to_centroids(points, centroids)\n",
    "print(labels)\n",
    "\n",
    "colors = ['yellow', 'm', 'cyan', 'brown']\n",
    "for k in range(np.unique(labels).shape[0]):\n",
    "    points_k = extract_labeled_points(points, labels, k)\n",
    "    plt.scatter(points_k[:, 0], points_k[:, 1], c=colors[k])\n",
    "\n",
    "plt.scatter(centroids[:, 0], centroids[:, 1], c='red', marker='x')\n",
    "plt.title('Points assignment to centroids test')\n",
    "plt.show()\n",
    "\n",
    "print(euclidean_distance(np.array([4, 2]), np.array([5, 1.8])))\n",
    "print(euclidean_distance(np.array([4, 2]), np.array([4, 1.2])))"
   ],
   "metadata": {
    "collapsed": false,
    "pycharm": {
     "name": "#%%\n"
    }
   }
  },
  {
   "cell_type": "code",
   "execution_count": 5,
   "outputs": [
    {
     "name": "stdout",
     "output_type": "stream",
     "text": [
      "[[1.5        1.5       ]\n",
      " [4.33333333 1.33333333]\n",
      " [6.2        1.6       ]]\n"
     ]
    },
    {
     "data": {
      "text/plain": "<matplotlib.collections.PathCollection at 0x9cebcc0>"
     },
     "execution_count": 5,
     "metadata": {},
     "output_type": "execute_result"
    },
    {
     "data": {
      "text/plain": "<Figure size 432x288 with 1 Axes>",
      "image/png": "[encoded data removed]"
     },
     "metadata": {
      "needs_background": "light"
     },
     "output_type": "display_data"
    }
   ],
   "source": [
    "\n",
    "for k in range(np.unique(labels).shape[0]):\n",
    "    points_k = extract_labeled_points(points, labels, k)\n",
    "    plt.scatter(points_k[:, 0], points_k[:, 1], c=colors[k])\n",
    "\n",
    "new_centroids = update_centroids(points, centroids, labels)\n",
    "print(new_centroids)\n",
    "\n",
    "plt.title('Update centroids test')\n",
    "plt.scatter(new_centroids[:, 0], new_centroids[:, 1], c='red', s=20, marker='x')"
   ],
   "metadata": {
    "collapsed": false,
    "pycharm": {
     "name": "#%%\n"
    }
   }
  },
  {
   "cell_type": "code",
   "execution_count": 6,
   "outputs": [
    {
     "name": "stdout",
     "output_type": "stream",
     "text": [
      "SSE = 7.333333333333334\n"
     ]
    }
   ],
   "source": [
    "sse = sum_of_squared_error(points, new_centroids, labels)\n",
    "print(f'SSE = {sse}')"
   ],
   "metadata": {
    "collapsed": false,
    "pycharm": {
     "name": "#%%\n"
    }
   }
  },
  {
   "cell_type": "code",
   "execution_count": 7,
   "outputs": [
    {
     "name": "stdout",
     "output_type": "stream",
     "text": [
      "SSE_test_0 = 2.0000000000000004\n",
      "[1.5 1.5]\n",
      "[1 1]\n",
      "[2 1]\n",
      "[1 2]\n",
      "[2 2]\n",
      "SSE_test = 6.000000000000002\n"
     ]
    }
   ],
   "source": [
    "sse_test_0 = euclidean_distance(points[0], new_centroids[0])**2 + \\\n",
    "           euclidean_distance(points[1], new_centroids[0])**2 + \\\n",
    "           euclidean_distance(points[4], new_centroids[0])**2 + \\\n",
    "           euclidean_distance(points[5], new_centroids[0])**2\n",
    "print(f'SSE_test_0 = {sse_test_0}')\n",
    "print(new_centroids[0])\n",
    "print(points[0])\n",
    "print(points[1])\n",
    "print(points[4])\n",
    "print(points[5])\n",
    "\n",
    "print(f'SSE_test = {sse_test_0 * 3}')"
   ],
   "metadata": {
    "collapsed": false,
    "pycharm": {
     "name": "#%%\n"
    }
   }
  },
  {
   "cell_type": "code",
   "execution_count": 8,
   "outputs": [
    {
     "name": "stdout",
     "output_type": "stream",
     "text": [
      "0.5\n",
      "0.5000000000000001\n"
     ]
    }
   ],
   "source": [
    "p = np.sum(np.power(points[0] - new_centroids[0], 2))\n",
    "print(p)\n",
    "\n",
    "p2 = euclidean_distance(points[0], new_centroids[0]) ** 2\n",
    "print(p2)"
   ],
   "metadata": {
    "collapsed": false,
    "pycharm": {
     "name": "#%%\n"
    }
   }
  },
  {
   "cell_type": "code",
   "execution_count": 9,
   "outputs": [
    {
     "name": "stdout",
     "output_type": "stream",
     "text": [
      "[0.65829259 0.8522327  0.28587753 0.50680235 0.7681167 ]\n",
      "[0.31658519 0.53951255 0.57175505 0.55068024 2.51304506]\n"
     ]
    }
   ],
   "source": [
    "lower_bound = np.array([-1, -5, 0, 0.5, 0.9])\n",
    "upper_bound = np.array([1, 1.5, 2, 0.6, 3])\n",
    "x = np.random.random_sample((5,))\n",
    "print(x)\n",
    "\n",
    "x_lower_upper = lower_bound + x * (upper_bound - lower_bound)\n",
    "print(x_lower_upper)"
   ],
   "metadata": {
    "collapsed": false,
    "pycharm": {
     "name": "#%%\n"
    }
   }
  },
  {
   "cell_type": "code",
   "execution_count": 10,
   "outputs": [
    {
     "data": {
      "text/plain": "<matplotlib.collections.PathCollection at 0x9cc1320>"
     },
     "execution_count": 10,
     "metadata": {},
     "output_type": "execute_result"
    },
    {
     "data": {
      "text/plain": "<Figure size 432x288 with 1 Axes>",
      "image/png": "[encoded data removed]"
     },
     "metadata": {
      "needs_background": "light"
     },
     "output_type": "display_data"
    }
   ],
   "source": [
    "# print(points)\n",
    "mins = np.min(points, axis=0)\n",
    "maxs = np.max(points, axis=0)\n",
    "\n",
    "init_centroids = initialize_centroids_random(points, 3, lower_bound=mins, upper_bound=maxs)\n",
    "init_labels = assign_points_to_centroids(points, init_centroids)\n",
    "k_labels = init_centroids.shape[0]\n",
    "\n",
    "for k in range(k_labels):\n",
    "    points_k = extract_labeled_points(points, init_labels, k)\n",
    "    plt.scatter(points_k[:, 0], points_k[:, 1], c=colors[k])\n",
    "\n",
    "plt.scatter(init_centroids[:, 0], init_centroids[:, 1], c='red', marker='x')"
   ],
   "metadata": {
    "collapsed": false,
    "pycharm": {
     "name": "#%%\n"
    }
   }
  },
  {
   "cell_type": "code",
   "execution_count": 11,
   "outputs": [
    {
     "name": "stdout",
     "output_type": "stream",
     "text": [
      "[0. 0. 2. 1. 0. 0. 2. 1. 1. 1. 1. 1.]\n"
     ]
    }
   ],
   "source": [
    "print(init_labels)"
   ],
   "metadata": {
    "collapsed": false,
    "pycharm": {
     "name": "#%%\n"
    }
   }
  },
  {
   "cell_type": "code",
   "execution_count": 12,
   "outputs": [
    {
     "name": "stdout",
     "output_type": "stream",
     "text": [
      "[1 2 3]\n"
     ]
    }
   ],
   "source": [
    "a = np.array([1, 2])\n",
    "a = np.append(a, 3)\n",
    "print(a)"
   ],
   "metadata": {
    "collapsed": false,
    "pycharm": {
     "name": "#%%\n"
    }
   }
  },
  {
   "cell_type": "code",
   "execution_count": 14,
   "outputs": [
    {
     "name": "stdout",
     "output_type": "stream",
     "text": [
      "[[1.  2.  1.5 2.5]\n",
      " [3.  1.  3.  1. ]\n",
      " [4.  4.  2.  2. ]]\n",
      "[[1 2]\n",
      " [4 4]]\n"
     ]
    }
   ],
   "source": [
    "mean_centroids = np.array([\n",
    "    [1, 2], [3, 1], [4, 4]\n",
    "])\n",
    "annealed_centroids = np.array([\n",
    "    [1.5, 2.5], [3, 1], [2, 2]\n",
    "])\n",
    "\n",
    "history = np.concatenate([mean_centroids, annealed_centroids], axis=1)\n",
    "print(history)\n",
    "\n",
    "indices = np.array([0, 2])\n",
    "print(mean_centroids[indices])"
   ],
   "metadata": {
    "collapsed": false,
    "pycharm": {
     "name": "#%%\n"
    }
   }
  },
  {
   "cell_type": "code",
   "execution_count": 15,
   "outputs": [
    {
     "name": "stdout",
     "output_type": "stream",
     "text": [
      "[[[1.  2. ]\n",
      "  [1.5 2.5]]\n",
      "\n",
      " [[3.  1. ]\n",
      "  [3.  1. ]]\n",
      "\n",
      " [[4.  4. ]\n",
      "  [2.  2. ]]]\n"
     ]
    }
   ],
   "source": [
    "l = mean_centroids.shape[0]\n",
    "n = mean_centroids.shape[1]\n",
    "concat = np.zeros((l, 2, n))\n",
    "concat[:, 0, :] = mean_centroids\n",
    "concat[:, 1, :] = annealed_centroids\n",
    "\n",
    "print(concat)"
   ],
   "metadata": {
    "collapsed": false,
    "pycharm": {
     "name": "#%%\n"
    }
   }
  }
 ],
 "metadata": {
  "kernelspec": {
   "display_name": "Python 3",
   "language": "python",
   "name": "python3"
  },
  "language_info": {
   "codemirror_mode": {
    "name": "ipython",
    "version": 2
   },
   "file_extension": ".py",
   "mimetype": "text/x-python",
   "name": "python",
   "nbconvert_exporter": "python",
   "pygments_lexer": "ipython2",
   "version": "2.7.6"
  }
 },
 "nbformat": 4,
 "nbformat_minor": 0
}