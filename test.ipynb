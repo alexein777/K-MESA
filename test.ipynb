{
 "cells": [
  {
   "cell_type": "code",
   "execution_count": 1,
   "metadata": {
    "collapsed": true
   },
   "outputs": [],
   "source": [
    "import numpy as np\n",
    "import matplotlib.pyplot as plt\n",
    "from clustering.kmesar import *\n",
    "from sklearn.datasets import make_blobs\n",
    "from sklearn.preprocessing import MinMaxScaler"
   ]
  },
  {
   "cell_type": "code",
   "execution_count": 2,
   "outputs": [
    {
     "name": "stdout",
     "output_type": "stream",
     "text": [
      "[1.33333333 2.        ]\n"
     ]
    }
   ],
   "source": [
    "points = np.array([[1, 2], [3, 3], [0, 1]])\n",
    "print(np.mean(points, axis=0))"
   ],
   "metadata": {
    "collapsed": false,
    "pycharm": {
     "name": "#%%\n"
    }
   }
  },
  {
   "cell_type": "code",
   "execution_count": 3,
   "outputs": [
    {
     "name": "stdout",
     "output_type": "stream",
     "text": [
      "[0. 0. 1. 1. 0. 0. 1. 2. 2. 2. 2. 2.]\n",
      "1.019803902718557\n",
      "0.8\n"
     ]
    },
    {
     "data": {
      "text/plain": "<Figure size 432x288 with 1 Axes>",
      "image/png": "[encoded data removed]"
     },
     "metadata": {
      "needs_background": "light"
     },
     "output_type": "display_data"
    }
   ],
   "source": [
    "centroids = np.array([\n",
    "    [1, 1.2],\n",
    "    [4, 1.2],\n",
    "    [6, 1.8]\n",
    "])\n",
    "points = np.array([[1, 1], [2, 1], [4, 1], [5, 1], [1, 2], [2, 2], [4, 2], [5, 2],\n",
    "                   [6, 1], [7, 1], [6, 2], [7, 2]])\n",
    "\n",
    "labels = assign_points_to_centroids(points, centroids)\n",
    "print(labels)\n",
    "\n",
    "colors = ['yellow', 'm', 'cyan', 'brown']\n",
    "for k in range(np.unique(labels).shape[0]):\n",
    "    points_k = extract_labeled_points(points, labels, k)\n",
    "    plt.scatter(points_k[:, 0], points_k[:, 1], c=colors[k])\n",
    "\n",
    "plt.scatter(centroids[:, 0], centroids[:, 1], c='red', marker='x')\n",
    "plt.title('Points assignment to centroids test')\n",
    "plt.show()\n",
    "\n",
    "print(euclidean_distance(np.array([4, 2]), np.array([5, 1.8])))\n",
    "print(euclidean_distance(np.array([4, 2]), np.array([4, 1.2])))"
   ],
   "metadata": {
    "collapsed": false,
    "pycharm": {
     "name": "#%%\n"
    }
   }
  },
  {
   "cell_type": "code",
   "execution_count": 4,
   "outputs": [
    {
     "name": "stdout",
     "output_type": "stream",
     "text": [
      "[[1.5        1.5       ]\n",
      " [4.33333333 1.33333333]\n",
      " [6.2        1.6       ]]\n"
     ]
    },
    {
     "data": {
      "text/plain": "<matplotlib.collections.PathCollection at 0xbe5f1d0>"
     },
     "execution_count": 4,
     "metadata": {},
     "output_type": "execute_result"
    },
    {
     "data": {
      "text/plain": "<Figure size 432x288 with 1 Axes>",
      "image/png": "[encoded data removed]"
     },
     "metadata": {
      "needs_background": "light"
     },
     "output_type": "display_data"
    }
   ],
   "source": [
    "\n",
    "for k in range(np.unique(labels).shape[0]):\n",
    "    points_k = extract_labeled_points(points, labels, k)\n",
    "    plt.scatter(points_k[:, 0], points_k[:, 1], c=colors[k])\n",
    "\n",
    "new_centroids = update_centroids(points, centroids, labels)\n",
    "print(new_centroids)\n",
    "\n",
    "plt.title('Update centroids test')\n",
    "plt.scatter(new_centroids[:, 0], new_centroids[:, 1], c='red', s=20, marker='x')"
   ],
   "metadata": {
    "collapsed": false,
    "pycharm": {
     "name": "#%%\n"
    }
   }
  },
  {
   "cell_type": "code",
   "execution_count": 5,
   "outputs": [
    {
     "name": "stdout",
     "output_type": "stream",
     "text": [
      "SSE = 7.333333333333334\n"
     ]
    }
   ],
   "source": [
    "sse = sum_of_squared_error(points, new_centroids, labels)\n",
    "print(f'SSE = {sse}')"
   ],
   "metadata": {
    "collapsed": false,
    "pycharm": {
     "name": "#%%\n"
    }
   }
  },
  {
   "cell_type": "code",
   "execution_count": 6,
   "outputs": [
    {
     "name": "stdout",
     "output_type": "stream",
     "text": [
      "SSE_test_0 = 2.0000000000000004\n",
      "[1.5 1.5]\n",
      "[1 1]\n",
      "[2 1]\n",
      "[1 2]\n",
      "[2 2]\n",
      "SSE_test = 6.000000000000002\n"
     ]
    }
   ],
   "source": [
    "sse_test_0 = euclidean_distance(points[0], new_centroids[0])**2 + \\\n",
    "           euclidean_distance(points[1], new_centroids[0])**2 + \\\n",
    "           euclidean_distance(points[4], new_centroids[0])**2 + \\\n",
    "           euclidean_distance(points[5], new_centroids[0])**2\n",
    "print(f'SSE_test_0 = {sse_test_0}')\n",
    "print(new_centroids[0])\n",
    "print(points[0])\n",
    "print(points[1])\n",
    "print(points[4])\n",
    "print(points[5])\n",
    "\n",
    "print(f'SSE_test = {sse_test_0 * 3}')"
   ],
   "metadata": {
    "collapsed": false,
    "pycharm": {
     "name": "#%%\n"
    }
   }
  },
  {
   "cell_type": "code",
   "execution_count": 7,
   "outputs": [
    {
     "name": "stdout",
     "output_type": "stream",
     "text": [
      "0.5\n",
      "0.5000000000000001\n"
     ]
    }
   ],
   "source": [
    "p = np.sum(np.power(points[0] - new_centroids[0], 2))\n",
    "print(p)\n",
    "\n",
    "p2 = euclidean_distance(points[0], new_centroids[0]) ** 2\n",
    "print(p2)"
   ],
   "metadata": {
    "collapsed": false,
    "pycharm": {
     "name": "#%%\n"
    }
   }
  },
  {
   "cell_type": "code",
   "execution_count": 8,
   "outputs": [
    {
     "name": "stdout",
     "output_type": "stream",
     "text": [
      "[0.55298334 0.27716848 0.48215362 0.62232714 0.32045338]\n",
      "[ 0.10596668 -3.19840487  0.96430723  0.56223271  1.57295211]\n"
     ]
    }
   ],
   "source": [
    "lower_bound = np.array([-1, -5, 0, 0.5, 0.9])\n",
    "upper_bound = np.array([1, 1.5, 2, 0.6, 3])\n",
    "x = np.random.random_sample((5,))\n",
    "print(x)\n",
    "\n",
    "x_lower_upper = lower_bound + x * (upper_bound - lower_bound)\n",
    "print(x_lower_upper)"
   ],
   "metadata": {
    "collapsed": false,
    "pycharm": {
     "name": "#%%\n"
    }
   }
  },
  {
   "cell_type": "code",
   "execution_count": 9,
   "outputs": [
    {
     "data": {
      "text/plain": "<matplotlib.collections.PathCollection at 0xbee86a0>"
     },
     "execution_count": 9,
     "metadata": {},
     "output_type": "execute_result"
    },
    {
     "data": {
      "text/plain": "<Figure size 432x288 with 1 Axes>",
      "image/png": "[encoded data removed]"
     },
     "metadata": {
      "needs_background": "light"
     },
     "output_type": "display_data"
    }
   ],
   "source": [
    "# print(points)\n",
    "mins = np.min(points, axis=0)\n",
    "maxs = np.max(points, axis=0)\n",
    "\n",
    "init_centroids = initialize_centroids_random(points, 3, lower_bound=mins, upper_bound=maxs)\n",
    "init_labels = assign_points_to_centroids(points, init_centroids)\n",
    "k_labels = init_centroids.shape[0]\n",
    "\n",
    "for k in range(k_labels):\n",
    "    points_k = extract_labeled_points(points, init_labels, k)\n",
    "    plt.scatter(points_k[:, 0], points_k[:, 1], c=colors[k])\n",
    "\n",
    "plt.scatter(init_centroids[:, 0], init_centroids[:, 1], c='red', marker='x')"
   ],
   "metadata": {
    "collapsed": false,
    "pycharm": {
     "name": "#%%\n"
    }
   }
  },
  {
   "cell_type": "code",
   "execution_count": 10,
   "outputs": [
    {
     "name": "stdout",
     "output_type": "stream",
     "text": [
      "[0. 0. 0. 2. 0. 0. 0. 2. 1. 1. 1. 1.]\n"
     ]
    }
   ],
   "source": [
    "print(init_labels)"
   ],
   "metadata": {
    "collapsed": false,
    "pycharm": {
     "name": "#%%\n"
    }
   }
  },
  {
   "cell_type": "code",
   "execution_count": 11,
   "outputs": [
    {
     "name": "stdout",
     "output_type": "stream",
     "text": [
      "[1 2 3]\n"
     ]
    }
   ],
   "source": [
    "a = np.array([1, 2])\n",
    "a = np.append(a, 3)\n",
    "print(a)"
   ],
   "metadata": {
    "collapsed": false,
    "pycharm": {
     "name": "#%%\n"
    }
   }
  },
  {
   "cell_type": "code",
   "execution_count": 12,
   "outputs": [
    {
     "name": "stdout",
     "output_type": "stream",
     "text": [
      "[[1.  2.  1.5 2.5]\n",
      " [3.  1.  3.  1. ]\n",
      " [4.  4.  2.  2. ]]\n",
      "[[1 2]\n",
      " [4 4]]\n"
     ]
    }
   ],
   "source": [
    "mean_centroids = np.array([\n",
    "    [1, 2], [3, 1], [4, 4]\n",
    "])\n",
    "annealed_centroids = np.array([\n",
    "    [1.5, 2.5], [3, 1], [2, 2]\n",
    "])\n",
    "\n",
    "history = np.concatenate([mean_centroids, annealed_centroids], axis=1)\n",
    "print(history)\n",
    "\n",
    "indices = np.array([0, 2])\n",
    "print(mean_centroids[indices])"
   ],
   "metadata": {
    "collapsed": false,
    "pycharm": {
     "name": "#%%\n"
    }
   }
  },
  {
   "cell_type": "code",
   "execution_count": 13,
   "outputs": [
    {
     "name": "stdout",
     "output_type": "stream",
     "text": [
      "[[[1.  2. ]\n",
      "  [1.5 2.5]]\n",
      "\n",
      " [[3.  1. ]\n",
      "  [3.  1. ]]\n",
      "\n",
      " [[4.  4. ]\n",
      "  [2.  2. ]]]\n"
     ]
    }
   ],
   "source": [
    "l = mean_centroids.shape[0]\n",
    "n = mean_centroids.shape[1]\n",
    "concat = np.zeros((l, 2, n))\n",
    "concat[:, 0, :] = mean_centroids\n",
    "concat[:, 1, :] = annealed_centroids\n",
    "\n",
    "print(concat)"
   ],
   "metadata": {
    "collapsed": false,
    "pycharm": {
     "name": "#%%\n"
    }
   }
  },
  {
   "cell_type": "code",
   "execution_count": 14,
   "outputs": [],
   "source": [
    "a = np.array([0, 1, 2, 3, 4, 5, 2, 2, 2])\n",
    "a_new = np.delete(a, np.where(a == 2))"
   ],
   "metadata": {
    "collapsed": false,
    "pycharm": {
     "name": "#%%\n"
    }
   }
  },
  {
   "cell_type": "code",
   "execution_count": 15,
   "outputs": [
    {
     "name": "stdout",
     "output_type": "stream",
     "text": [
      "[2.6 2.4]\n"
     ]
    }
   ],
   "source": [
    "pts = np.array([[1, 2], [0, 0], [3, 3], [4, 1], [5, 6]])\n",
    "pts_mean = np.mean(pts, axis=0)\n",
    "print(pts_mean)"
   ],
   "metadata": {
    "collapsed": false,
    "pycharm": {
     "name": "#%%\n"
    }
   }
  },
  {
   "cell_type": "code",
   "execution_count": 16,
   "outputs": [
    {
     "name": "stdout",
     "output_type": "stream",
     "text": [
      "(2,)\n",
      "2\n",
      "True\n"
     ]
    },
    {
     "data": {
      "text/plain": "1"
     },
     "execution_count": 16,
     "metadata": {},
     "output_type": "execute_result"
    }
   ],
   "source": [
    "x = np.array([1, 2])\n",
    "print(x.shape)\n",
    "print(x.shape[0])\n",
    "print(type(x) == np.ndarray)\n",
    "x.ndim"
   ],
   "metadata": {
    "collapsed": false,
    "pycharm": {
     "name": "#%%\n"
    }
   }
  },
  {
   "cell_type": "code",
   "execution_count": 17,
   "outputs": [
    {
     "name": "stdout",
     "output_type": "stream",
     "text": [
      "[0. 0. 0. 0. 0. 0. 0. 0. 0. 0. 0. 0. 1. 1. 1. 1. 1. 1. 1. 1. 2. 2. 2. 2.\n",
      " 2. 2. 2. 2. 2. 2.]\n"
     ]
    },
    {
     "data": {
      "text/plain": "<matplotlib.collections.PathCollection at 0xbfc6b00>"
     },
     "execution_count": 17,
     "metadata": {},
     "output_type": "execute_result"
    },
    {
     "data": {
      "text/plain": "<Figure size 432x288 with 1 Axes>",
      "image/png": "[encoded data removed]"
     },
     "metadata": {
      "needs_background": "light"
     },
     "output_type": "display_data"
    }
   ],
   "source": [
    "points = np.random.randn(30, 2)\n",
    "l1 = np.zeros((12,))\n",
    "l2 = np.zeros((8,)) + 1\n",
    "l3 = np.zeros((10,)) + 2\n",
    "labels = np.concatenate([l1, l2, l3])\n",
    "\n",
    "print(labels)\n",
    "\n",
    "K = np.unique(labels).shape[0]\n",
    "colors = ['firebrick', 'teal', 'gold']\n",
    "for k in range(K):\n",
    "    subsample = points[np.where(labels == k)]\n",
    "    plt.scatter(subsample[:, 0], subsample[:, 1], c=colors[k])\n",
    "\n",
    "rand_points = get_random_points_from_clusters(points, labels)\n",
    "plt.scatter(rand_points[:, 0], rand_points[:, 1], c='black', s=50)"
   ],
   "metadata": {
    "collapsed": false,
    "pycharm": {
     "name": "#%%\n"
    }
   }
  },
  {
   "cell_type": "code",
   "execution_count": 18,
   "outputs": [
    {
     "name": "stderr",
     "output_type": "stream",
     "text": [
      "C:\\Anaconda3\\lib\\site-packages\\ipykernel_launcher.py:3: RuntimeWarning: divide by zero encountered in true_divide\n",
      "  This is separate from the ipykernel package so we can avoid doing imports until\n"
     ]
    },
    {
     "data": {
      "text/plain": "[<matplotlib.lines.Line2D at 0xc013d30>]"
     },
     "execution_count": 18,
     "metadata": {},
     "output_type": "execute_result"
    },
    {
     "data": {
      "text/plain": "<Figure size 432x288 with 1 Axes>",
      "image/png": "[encoded data removed]"
     },
     "metadata": {
      "needs_background": "light"
     },
     "output_type": "display_data"
    }
   ],
   "source": [
    "x = np.arange(1, 21)\n",
    "y = 1 / (x ** 8)\n",
    "plt.plot(x, y)"
   ],
   "metadata": {
    "collapsed": false,
    "pycharm": {
     "name": "#%%\n"
    }
   }
  },
  {
   "cell_type": "code",
   "execution_count": 19,
   "outputs": [
    {
     "name": "stdout",
     "output_type": "stream",
     "text": [
      "[0.70710678 0.70710678 0.70710678 0.70710678]\n",
      "2.8284271247461903\n"
     ]
    }
   ],
   "source": [
    "pts_j = np.array([[0, 0], [0, 1], [1, 0], [1, 1]])\n",
    "centroid_j = np.array([0.5, 0.5])\n",
    "sses = la.norm(centroid_j - pts_j, ord=2, axis=1)\n",
    "sse_single = np.sum(sses)\n",
    "\n",
    "print(sses)\n",
    "print(sse_single)"
   ],
   "metadata": {
    "collapsed": false,
    "pycharm": {
     "name": "#%%\n"
    }
   }
  },
  {
   "cell_type": "code",
   "execution_count": 20,
   "outputs": [
    {
     "name": "stdout",
     "output_type": "stream",
     "text": [
      "[2.0, 3.640054944640259, 2.8284271247461903, 3.605551275463989, 3.1622776601683795, 1.8027756377319946, 4.47213595499958, 3.605551275463989, 3.640054944640259]\n"
     ]
    }
   ],
   "source": [
    "points = np.array([[1, 1], [2, 2.5], [3, 0], [-1, -1], [2, 2], [0, 0.5], [3, 3], [4, 0], [2, -1.5]])\n",
    "centroids = np.array([[1, 2], [0.5, 0.5], [1, -1]])\n",
    "distances = []\n",
    "\n",
    "for point in points:\n",
    "    point_distances = la.norm(point - centroids, ord=2, axis=1)\n",
    "\n",
    "    distances.append(np.max(point_distances))\n",
    "\n",
    "print(distances)"
   ],
   "metadata": {
    "collapsed": false,
    "pycharm": {
     "name": "#%%\n"
    }
   }
  },
  {
   "cell_type": "code",
   "execution_count": 21,
   "outputs": [
    {
     "name": "stdout",
     "output_type": "stream",
     "text": [
      "[2.         3.64005494 2.82842712 3.60555128 3.16227766 1.80277564\n",
      " 4.47213595 3.60555128 3.64005494]\n"
     ]
    }
   ],
   "source": [
    "max_distances = get_max_distances(points, centroids)\n",
    "print(max_distances)"
   ],
   "metadata": {
    "collapsed": false,
    "pycharm": {
     "name": "#%%\n"
    }
   }
  },
  {
   "cell_type": "code",
   "execution_count": 22,
   "outputs": [
    {
     "name": "stdout",
     "output_type": "stream",
     "text": [
      "[4. 0.]\n"
     ]
    }
   ],
   "source": [
    "furthest_point = get_furthest_point(points, centroids)\n",
    "print(furthest_point)"
   ],
   "metadata": {
    "collapsed": false,
    "pycharm": {
     "name": "#%%\n"
    }
   }
  },
  {
   "cell_type": "code",
   "execution_count": 23,
   "outputs": [
    {
     "data": {
      "text/plain": "<matplotlib.collections.PathCollection at 0xc08b0b8>"
     },
     "execution_count": 23,
     "metadata": {},
     "output_type": "execute_result"
    },
    {
     "data": {
      "text/plain": "<Figure size 432x288 with 1 Axes>",
      "image/png": "[encoded data removed]"
     },
     "metadata": {
      "needs_background": "light"
     },
     "output_type": "display_data"
    }
   ],
   "source": [
    "plt.scatter(points[:, 0], points[:, 1])\n",
    "plt.scatter(centroids[:, 0], centroids[:, 1], c='black', s=100, marker='x')\n",
    "plt.scatter(furthest_point[0], furthest_point[1], c='red')"
   ],
   "metadata": {
    "collapsed": false,
    "pycharm": {
     "name": "#%%\n"
    }
   }
  },
  {
   "cell_type": "code",
   "execution_count": 24,
   "outputs": [
    {
     "name": "stdout",
     "output_type": "stream",
     "text": [
      "1\n"
     ]
    }
   ],
   "source": [
    "n_iter = int(round(13 / 10))\n",
    "print(n_iter)"
   ],
   "metadata": {
    "collapsed": false,
    "pycharm": {
     "name": "#%%\n"
    }
   }
  },
  {
   "cell_type": "code",
   "execution_count": 25,
   "outputs": [
    {
     "name": "stdout",
     "output_type": "stream",
     "text": [
      "[ 1  3  5  7  9 11 13]\n",
      "iters_len = 7\n",
      "n_rows = 4\n"
     ]
    }
   ],
   "source": [
    "iters = np.arange(1, 13 + 1, 2)\n",
    "iters_len = iters.shape[0]\n",
    "\n",
    "n_rows = iters_len // 2 + 1\n",
    "\n",
    "print(iters)\n",
    "print(f'iters_len = {iters_len}')\n",
    "print(f'n_rows = {n_rows}')"
   ],
   "metadata": {
    "collapsed": false,
    "pycharm": {
     "name": "#%%\n"
    }
   }
  },
  {
   "cell_type": "code",
   "execution_count": 26,
   "outputs": [
    {
     "name": "stdout",
     "output_type": "stream",
     "text": [
      "[ 1  3  5  7  9 11 12]\n",
      "iters_len = 7\n",
      "n_rows = 4\n"
     ]
    }
   ],
   "source": [
    "iters = np.arange(1, 12 + 1, 2)\n",
    "iters = np.append(iters, 12)\n",
    "iters_len = iters.shape[0]\n",
    "\n",
    "n_rows = iters_len // 2 + 1\n",
    "\n",
    "print(iters)\n",
    "print(f'iters_len = {iters_len}')\n",
    "print(f'n_rows = {n_rows}')"
   ],
   "metadata": {
    "collapsed": false,
    "pycharm": {
     "name": "#%%\n"
    }
   }
  },
  {
   "cell_type": "code",
   "execution_count": 27,
   "outputs": [
    {
     "name": "stdout",
     "output_type": "stream",
     "text": [
      "[ 1  6 11 16 21 26 31 36 41 46 51 56 61 66 71 76 81 86 91 96 99]\n",
      "n_iter_mod = 4\n",
      "iters_len = 21\n",
      "n_rows = 11\n"
     ]
    }
   ],
   "source": [
    "n_iter = 99\n",
    "iters = np.arange(1, 99 + 1, 5)\n",
    "n_iter_mod = 99 % 5\n",
    "iters = np.append(iters, n_iter) if n_iter_mod != 0 else iters\n",
    "iters_len = iters.shape[0]\n",
    "\n",
    "n_rows = iters_len // 2 + 1\n",
    "\n",
    "print(iters)\n",
    "print(f'n_iter_mod = {n_iter_mod}')\n",
    "print(f'iters_len = {iters_len}')\n",
    "print(f'n_rows = {n_rows}')"
   ],
   "metadata": {
    "collapsed": false,
    "pycharm": {
     "name": "#%%\n"
    }
   }
  },
  {
   "cell_type": "code",
   "execution_count": 36,
   "outputs": [
    {
     "name": "stdout",
     "output_type": "stream",
     "text": [
      "[  1  11  21  31  41  51  61  71  81  91 101 111 121 131 141 151 161 171\n",
      " 181 191 201 211 221 231 241 251 261 271 281 291 300]\n",
      "n_iter_mod = 0\n",
      "iters_len = 31\n",
      "n_rows = 16\n"
     ]
    }
   ],
   "source": [
    "n_iter = 300\n",
    "iters = np.arange(1, 300 + 1, 10)\n",
    "n_iter_mod = 300 % 10\n",
    "iters = np.append(iters, n_iter) if iters[-1] != n_iter else iters\n",
    "iters_len = iters.shape[0]\n",
    "\n",
    "n_rows = iters_len // 2 + 1\n",
    "\n",
    "print(iters)\n",
    "print(f'n_iter_mod = {n_iter_mod}')\n",
    "print(f'iters_len = {iters_len}')\n",
    "print(f'n_rows = {n_rows}')"
   ],
   "metadata": {
    "collapsed": false,
    "pycharm": {
     "name": "#%%\n"
    }
   }
  },
  {
   "cell_type": "code",
   "execution_count": 29,
   "outputs": [
    {
     "name": "stdout",
     "output_type": "stream",
     "text": [
      "[[0.66666667 0.55555556]\n",
      " [0.83333333 0.66666667]\n",
      " [0.13333333 0.38888889]\n",
      " [0.         0.        ]\n",
      " [1.         1.        ]\n",
      " [0.33333333 0.51111111]]\n",
      "[[ 2.   2. ]\n",
      " [ 3.   3. ]\n",
      " [-1.2  0.5]\n",
      " [-2.  -3. ]\n",
      " [ 4.   6. ]\n",
      " [ 0.   1.6]]\n"
     ]
    }
   ],
   "source": [
    "scaler = MinMaxScaler()\n",
    "centroids = np.array([[2, 2], [3, 3], [-1.2, 0.5], [-2, -3], [4, 6], [0, 1.6]])\n",
    "scaled_centroids = scaler.fit_transform(centroids)\n",
    "\n",
    "print(scaled_centroids)\n",
    "print(scaler.inverse_transform(scaled_centroids))"
   ],
   "metadata": {
    "collapsed": false,
    "pycharm": {
     "name": "#%%\n"
    }
   }
  },
  {
   "cell_type": "code",
   "execution_count": 33,
   "outputs": [
    {
     "name": "stdout",
     "output_type": "stream",
     "text": [
      "MinMaxScaler\n"
     ]
    }
   ],
   "source": [
    "type_str = str(type(scaler))\n",
    "dot_index = type_str.rindex('.')\n",
    "print(type_str[dot_index + 1 :-2])"
   ],
   "metadata": {
    "collapsed": false,
    "pycharm": {
     "name": "#%%\n"
    }
   }
  }
 ],
 "metadata": {
  "kernelspec": {
   "display_name": "Python 3",
   "language": "python",
   "name": "python3"
  },
  "language_info": {
   "codemirror_mode": {
    "name": "ipython",
    "version": 2
   },
   "file_extension": ".py",
   "mimetype": "text/x-python",
   "name": "python",
   "nbconvert_exporter": "python",
   "pygments_lexer": "ipython2",
   "version": "2.7.6"
  }
 },
 "nbformat": 4,
 "nbformat_minor": 0
}