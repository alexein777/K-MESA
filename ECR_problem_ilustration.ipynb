{
 "cells": [
  {
   "cell_type": "code",
   "execution_count": 21,
   "metadata": {
    "collapsed": true
   },
   "outputs": [],
   "source": [
    "import numpy as np\n",
    "from clustering.kmesar import calculate_annealing_vector, assign_points_to_centroids, update_centroids\n",
    "import matplotlib.pyplot as plt"
   ]
  },
  {
   "cell_type": "code",
   "execution_count": 50,
   "outputs": [
    {
     "data": {
      "text/plain": "<Figure size 576x288 with 2 Axes>",
      "image/png": "[encoded data removed]"
     },
     "metadata": {
      "needs_background": "light"
     },
     "output_type": "display_data"
    }
   ],
   "source": [
    "X = np.array([[0, 0], [0, 1], [1, 0], [1, 1]])\n",
    "init_centroids = np.array([[0, 0.2], [0.3, 0.3]])\n",
    "init_labels = assign_points_to_centroids(X, init_centroids)\n",
    "k_clusters = 2\n",
    "\n",
    "colors = ['red', 'blue']\n",
    "fig, axes = plt.subplots(nrows=1, ncols=2, figsize=(8, 4))\n",
    "\n",
    "for i in range(k_clusters):\n",
    "    cluster = X[np.where(init_labels == i)]\n",
    "    axes[0].scatter(cluster[:, 0], cluster[:, 1], c=colors[i], label=f'Cluster {i}')\n",
    "\n",
    "axes[0].scatter(init_centroids[:, 0], init_centroids[:, 1], c='black', s=50, marker='x', label='Centroids')\n",
    "\n",
    "mean_centroids = update_centroids(X, init_centroids, init_labels)\n",
    "\n",
    "rand_dp = np.array([-2, 2])\n",
    "\n",
    "axes[1].scatter(X[:, 0], X[:, 1], c='blue', label='Cluster 1')\n",
    "axes[1].scatter(mean_centroids[1, 0], mean_centroids[1, 1], c='black', s=50, marker='x', label='Centroids')\n",
    "axes[1].scatter(rand_dp[0], rand_dp[1], c='gray', s=50, marker='x', label='Annealed centroid')\n",
    "\n",
    "axes[1].plot([init_centroids[0, 0], mean_centroids[0, 0]],\n",
    "             [init_centroids[0, 1], mean_centroids[0, 1]],\n",
    "             c='gold', label='Mean centroid update')\n",
    "axes[1].plot([init_centroids[1, 0], mean_centroids[1, 0]],\n",
    "             [init_centroids[1, 1], mean_centroids[1, 1]],\n",
    "             c='gold')\n",
    "axes[1].plot([mean_centroids[0, 0], rand_dp[0]],\n",
    "             [mean_centroids[0, 1], rand_dp[1]],\n",
    "             c='dimgray', label='Annealing trigger')\n",
    "\n",
    "axes[1].legend(loc='upper right', prop={'size': 8 })\n",
    "\n",
    "# handles, labels = axes[1].get_legend_handles_labels()\n",
    "# fig.legend(handles, labels, loc='lower center', bbox_to_anchor = (0, -0.1, 0.9, 1))\n",
    "fig.savefig('ECR_problem_ilustration')"
   ],
   "metadata": {
    "collapsed": false,
    "pycharm": {
     "name": "#%%\n"
    }
   }
  },
  {
   "cell_type": "code",
   "execution_count": 23,
   "outputs": [
    {
     "name": "stdout",
     "output_type": "stream",
     "text": [
      "[[0.         0.        ]\n",
      " [0.66666667 0.66666667]]\n"
     ]
    }
   ],
   "source": [],
   "metadata": {
    "collapsed": false,
    "pycharm": {
     "name": "#%%\n"
    }
   }
  }
 ],
 "metadata": {
  "kernelspec": {
   "display_name": "Python 3",
   "language": "python",
   "name": "python3"
  },
  "language_info": {
   "codemirror_mode": {
    "name": "ipython",
    "version": 2
   },
   "file_extension": ".py",
   "mimetype": "text/x-python",
   "name": "python",
   "nbconvert_exporter": "python",
   "pygments_lexer": "ipython2",
   "version": "2.7.6"
  }
 },
 "nbformat": 4,
 "nbformat_minor": 0
}