{
 "cells": [
  {
   "cell_type": "code",
   "execution_count": 1,
   "metadata": {
    "collapsed": true
   },
   "outputs": [],
   "source": [
    "import matplotlib.pyplot as plt\n",
    "import numpy as np\n",
    "from clustering.kmesar import *\n",
    "from sklearn.cluster import KMeans\n",
    "from sklearn.preprocessing import MinMaxScaler\n",
    "from sklearn.datasets import make_blobs\n",
    "import pandas as pd"
   ]
  },
  {
   "cell_type": "code",
   "execution_count": 2,
   "outputs": [
    {
     "name": "stdout",
     "output_type": "stream",
     "text": [
      "   Sepal_Length  Sepal_Width  Petal_Length  Petal_Width Species\n",
      "0           5.1          3.5           1.4          0.2  setosa\n",
      "1           4.9          3.0           1.4          0.2  setosa\n",
      "2           4.7          3.2           1.3          0.2  setosa\n",
      "3           4.6          3.1           1.5          0.2  setosa\n",
      "4           5.0          3.6           1.4          0.2  setosa\n"
     ]
    }
   ],
   "source": [
    "df = pd.read_csv('./datasets/iris.csv')\n",
    "\n",
    "print(df.head())"
   ],
   "metadata": {
    "collapsed": false,
    "pycharm": {
     "name": "#%%\n"
    }
   }
  },
  {
   "cell_type": "code",
   "execution_count": 3,
   "outputs": [
    {
     "name": "stdout",
     "output_type": "stream",
     "text": [
      "Features: Index(['Petal_Length', 'Petal_Width'], dtype='object')\n",
      "Scaled dataset:\n",
      "   Petal_Length  Petal_Width\n",
      "0      0.067797     0.041667\n",
      "1      0.067797     0.041667\n",
      "2      0.050847     0.041667\n",
      "3      0.084746     0.041667\n",
      "4      0.067797     0.041667\n"
     ]
    }
   ],
   "source": [
    "features = df.columns[2:-1]\n",
    "X_orig = df[features]\n",
    "\n",
    "print(f'Features: {features}')\n",
    "\n",
    "scaler = MinMaxScaler()\n",
    "X_scaled = pd.DataFrame(scaler.fit_transform(X_orig), columns=features)\n",
    "\n",
    "print('Scaled dataset:')\n",
    "print(X_scaled.head())"
   ],
   "metadata": {
    "collapsed": false,
    "pycharm": {
     "name": "#%%\n"
    }
   }
  },
  {
   "cell_type": "code",
   "execution_count": 4,
   "outputs": [
    {
     "name": "stdout",
     "output_type": "stream",
     "text": [
      "(150, 2)\n",
      "[[0.06779661 0.04166667]\n",
      " [0.06779661 0.04166667]\n",
      " [0.05084746 0.04166667]\n",
      " [0.08474576 0.04166667]\n",
      " [0.06779661 0.04166667]]\n"
     ]
    }
   ],
   "source": [
    "X_scaled_arr = np.array(X_scaled)\n",
    "print(X_scaled_arr.shape)\n",
    "print(X_scaled_arr[:5, :])"
   ],
   "metadata": {
    "collapsed": false,
    "pycharm": {
     "name": "#%%\n"
    }
   }
  },
  {
   "cell_type": "code",
   "execution_count": 8,
   "outputs": [
    {
     "name": "stdout",
     "output_type": "stream",
     "text": [
      "n_labels = 2, k_centroids = 3\n",
      "Reinitializing one centroid ...\n",
      "n_labels = 2, k_centroids = 3\n",
      "Reinitializing one centroid ...\n",
      "n_labels = 2, k_centroids = 3\n",
      "Reinitializing one centroid ...\n",
      "n_labels = 2, k_centroids = 3\n",
      "Reinitializing one centroid ...\n",
      "n_labels = 2, k_centroids = 3\n",
      "Reinitializing one centroid ...\n",
      "n_labels = 3, k_centroids = 4\n",
      "Reinitializing one centroid ...\n",
      "n_labels = 3, k_centroids = 4\n",
      "Reinitializing one centroid ...\n",
      "n_labels = 3, k_centroids = 4\n",
      "Reinitializing one centroid ...\n",
      "n_labels = 2, k_centroids = 4\n",
      "Reinitializing one centroid ...\n",
      "n_labels = 3, k_centroids = 4\n",
      "Reinitializing one centroid ...\n",
      "n_labels = 3, k_centroids = 4\n",
      "Reinitializing one centroid ...\n",
      "n_labels = 3, k_centroids = 4\n",
      "Reinitializing one centroid ...\n",
      "n_labels = 3, k_centroids = 4\n",
      "Reinitializing one centroid ...\n",
      "n_labels = 2, k_centroids = 4\n",
      "Reinitializing one centroid ...\n",
      "n_labels = 3, k_centroids = 4\n",
      "Reinitializing one centroid ...\n",
      "n_labels = 3, k_centroids = 4\n",
      "Reinitializing one centroid ...\n",
      "n_labels = 3, k_centroids = 4\n",
      "Reinitializing one centroid ...\n",
      "n_labels = 3, k_centroids = 4\n",
      "Reinitializing one centroid ...\n",
      "n_labels = 3, k_centroids = 4\n",
      "Reinitializing one centroid ...\n",
      "n_labels = 3, k_centroids = 4\n",
      "Reinitializing one centroid ...\n",
      "n_labels = 2, k_centroids = 4\n",
      "Reinitializing one centroid ...\n",
      "n_labels = 3, k_centroids = 4\n",
      "Reinitializing one centroid ...\n",
      "n_labels = 3, k_centroids = 4\n",
      "Reinitializing one centroid ...\n",
      "n_labels = 3, k_centroids = 4\n",
      "Reinitializing one centroid ...\n",
      "n_labels = 3, k_centroids = 4\n",
      "Reinitializing one centroid ...\n",
      "n_labels = 3, k_centroids = 4\n",
      "Reinitializing one centroid ...\n",
      "n_labels = 3, k_centroids = 4\n",
      "Reinitializing one centroid ...\n",
      "n_labels = 3, k_centroids = 4\n",
      "Reinitializing one centroid ...\n",
      "n_labels = 3, k_centroids = 4\n",
      "Reinitializing one centroid ...\n",
      "n_labels = 3, k_centroids = 4\n",
      "Reinitializing one centroid ...\n",
      "n_labels = 3, k_centroids = 4\n",
      "Reinitializing one centroid ...\n",
      "n_labels = 3, k_centroids = 4\n",
      "Reinitializing one centroid ...\n",
      "n_labels = 3, k_centroids = 4\n",
      "Reinitializing one centroid ...\n",
      "n_labels = 3, k_centroids = 4\n",
      "Reinitializing one centroid ...\n",
      "n_labels = 3, k_centroids = 4\n",
      "Reinitializing one centroid ...\n",
      "n_labels = 3, k_centroids = 4\n",
      "Reinitializing one centroid ...\n",
      "n_labels = 3, k_centroids = 4\n",
      "Reinitializing one centroid ...\n",
      "n_labels = 3, k_centroids = 4\n",
      "Reinitializing one centroid ...\n",
      "n_labels = 3, k_centroids = 4\n",
      "Reinitializing one centroid ...\n",
      "n_labels = 3, k_centroids = 4\n",
      "Reinitializing one centroid ...\n",
      "n_labels = 3, k_centroids = 4\n",
      "Reinitializing one centroid ...\n",
      "n_labels = 3, k_centroids = 4\n",
      "Reinitializing one centroid ...\n",
      "n_labels = 3, k_centroids = 4\n",
      "Reinitializing one centroid ...\n",
      "n_labels = 2, k_centroids = 4\n",
      "Reinitializing one centroid ...\n",
      "n_labels = 3, k_centroids = 4\n",
      "Reinitializing one centroid ...\n",
      "n_labels = 3, k_centroids = 4\n",
      "Reinitializing one centroid ...\n",
      "n_labels = 3, k_centroids = 4\n",
      "Reinitializing one centroid ...\n",
      "n_labels = 3, k_centroids = 4\n",
      "Reinitializing one centroid ...\n",
      "n_labels = 3, k_centroids = 4\n",
      "Reinitializing one centroid ...\n",
      "n_labels = 3, k_centroids = 4\n",
      "Reinitializing one centroid ...\n"
     ]
    },
    {
     "data": {
      "text/plain": "<Figure size 1080x360 with 3 Axes>",
      "image/png": "[encoded data removed]"
     },
     "metadata": {
      "needs_background": "light"
     },
     "output_type": "display_data"
    }
   ],
   "source": [
    "k_clusters = [2, 3, 4]\n",
    "colors = ['red', 'green', 'blue', 'yellow', 'm', 'plum', 'brown']\n",
    "fig = plt.figure(figsize=(15, 5))\n",
    "plt_subplot_index = 1\n",
    "\n",
    "for k in k_clusters:\n",
    "    est = KMeansStandard(k_clusters=k)\n",
    "    est.fit(X_scaled)\n",
    "\n",
    "    df['label'] = est.labels_\n",
    "\n",
    "    fig.add_subplot(1, 3, plt_subplot_index)\n",
    "\n",
    "    for cluster_label in range(k):\n",
    "        cluster_subsample = df.loc[df['label'] == cluster_label]\n",
    "        plt.scatter(cluster_subsample['Petal_Length'], cluster_subsample['Petal_Width'],\n",
    "                    s=30, c=colors[cluster_label], marker='o', label=f'{cluster_label}')\n",
    "\n",
    "    centroids = pd.DataFrame(scaler.inverse_transform(est.centroids_), columns=features)\n",
    "    plt.scatter(centroids['Petal_Length'], centroids['Petal_Width'], c='black', s=35, marker='x', label='Centroids')\n",
    "\n",
    "    plt.legend(loc='lower right')\n",
    "    plt.title(f'K-Means (moja verzija), k_clusters: {k}, SSE: {est.inertia_ : .3}', fontsize=12)\n",
    "\n",
    "    plt_subplot_index += 1\n",
    "\n",
    "plt.tight_layout()\n",
    "plt.show()"
   ],
   "metadata": {
    "collapsed": false,
    "pycharm": {
     "name": "#%%\n"
    }
   }
  }
 ],
 "metadata": {
  "kernelspec": {
   "display_name": "Python 3",
   "language": "python",
   "name": "python3"
  },
  "language_info": {
   "codemirror_mode": {
    "name": "ipython",
    "version": 2
   },
   "file_extension": ".py",
   "mimetype": "text/x-python",
   "name": "python",
   "nbconvert_exporter": "python",
   "pygments_lexer": "ipython2",
   "version": "2.7.6"
  }
 },
 "nbformat": 4,
 "nbformat_minor": 0
}